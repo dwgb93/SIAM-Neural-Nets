{
  "nbformat": 4,
  "nbformat_minor": 0,
  "metadata": {
    "colab": {
      "name": "Baby's First Neural Network: Classification.ipynb",
      "provenance": [],
      "collapsed_sections": [],
      "authorship_tag": "ABX9TyPCjLUxRb1ZBnkq8cq3CUdL",
      "include_colab_link": true
    },
    "kernelspec": {
      "name": "python3",
      "display_name": "Python 3"
    },
    "language_info": {
      "name": "python"
    }
  },
  "cells": [
    {
      "cell_type": "markdown",
      "metadata": {
        "id": "view-in-github",
        "colab_type": "text"
      },
      "source": [
        "<a href=\"https://colab.research.google.com/github/dwgb93/SIAM-Neural-Nets/blob/main/Baby's_First_Neural_Network_Classification.ipynb\" target=\"_parent\"><img src=\"https://colab.research.google.com/assets/colab-badge.svg\" alt=\"Open In Colab\"/></a>"
      ]
    },
    {
      "cell_type": "markdown",
      "metadata": {
        "id": "XtcYiUND0k0a"
      },
      "source": [
        "#My First Neural Network: Convergence\n",
        "\n",
        "In this notebook, we'll be creating a simple neural network and using it to classify handwritten digits. This is from the popular MNIST data set consisting of 60,000 digits pre-split into a training and testing set.\n",
        "\n",
        "First: some bookkeeping. We'll import a bunch of packages that let this all work."
      ]
    },
    {
      "cell_type": "code",
      "metadata": {
        "id": "whUShDuM06gn"
      },
      "source": [
        "import numpy as np\n",
        "from tensorflow import keras\n",
        "from tensorflow.keras import layers"
      ],
      "execution_count": 1,
      "outputs": []
    },
    {
      "cell_type": "markdown",
      "metadata": {
        "id": "kql2bjeEyJLg"
      },
      "source": [
        "Next we'll download the data we are going to use"
      ]
    },
    {
      "cell_type": "code",
      "metadata": {
        "colab": {
          "base_uri": "https://localhost:8080/"
        },
        "id": "XaWv1QDwyMUp",
        "outputId": "395fa4df-f218-48e7-df59-8786e3fe1d3f"
      },
      "source": [
        "# the data is already split between train and test sets\n",
        "(x_train, y_train), (x_test, y_test) = keras.datasets.mnist.load_data()\n",
        "\n",
        "# Each pixel is a value from 0 to 255, so we normalize it to 0 to 1. \n",
        "# This is optional, and generally speeds up training. You could also do -1 to 1. Try it and see what works best!\n",
        "x_train, x_test = x_train / 255.0, x_test / 255.0"
      ],
      "execution_count": 2,
      "outputs": [
        {
          "output_type": "stream",
          "text": [
            "Downloading data from https://storage.googleapis.com/tensorflow/tf-keras-datasets/mnist.npz\n",
            "11493376/11490434 [==============================] - 0s 0us/step\n"
          ],
          "name": "stdout"
        }
      ]
    },
    {
      "cell_type": "markdown",
      "metadata": {
        "id": "qqEsEVVxzGTc"
      },
      "source": [
        "Let's look at a few of the images so we know what we're dealing with."
      ]
    },
    {
      "cell_type": "code",
      "metadata": {
        "colab": {
          "base_uri": "https://localhost:8080/",
          "height": 347
        },
        "id": "6K9nRsY4zK0W",
        "outputId": "4ec8d6c3-95ea-427b-de92-3330c61b9bf6"
      },
      "source": [
        "import matplotlib.pyplot as plt\n",
        "fig = plt.figure(figsize = (16,5))\n",
        "fig.add_subplot(1,3,1)\n",
        "plt.imshow(x_train[0], cmap=\"gray\")\n",
        "plt.title(\"Label is \"+ str(y_train[0]), fontsize = 18)\n",
        "fig.add_subplot(1,3,2)\n",
        "plt.imshow(x_train[1], cmap=\"gray\")\n",
        "plt.title(\"Label is \"+ str(y_train[2]), fontsize = 18)\n",
        "fig.add_subplot(1,3,3)\n",
        "plt.imshow(x_train[2], cmap=\"gray\")\n",
        "plt.title(\"Label is \"+ str(y_train[4]), fontsize = 18)"
      ],
      "execution_count": 3,
      "outputs": [
        {
          "output_type": "execute_result",
          "data": {
            "text/plain": [
              "Text(0.5, 1.0, 'Label is 9')"
            ]
          },
          "metadata": {
            "tags": []
          },
          "execution_count": 3
        },
        {
          "output_type": "display_data",
          "data": {
            "image/png": "[encoded data removed]",
            "text/plain": [
              "<Figure size 1152x360 with 3 Axes>"
            ]
          },
          "metadata": {
            "tags": [],
            "needs_background": "light"
          }
        }
      ]
    },
    {
      "cell_type": "markdown",
      "metadata": {
        "id": "SdQVNW3a4g5m"
      },
      "source": [
        "Finally, let's build our first neural network!\n",
        "\n",
        "We'll start with the input layer. Since we have a 28x28 image, we need 784 neurons.\n"
      ]
    },
    {
      "cell_type": "code",
      "metadata": {
        "colab": {
          "base_uri": "https://localhost:8080/"
        },
        "id": "egfEAbZp4o1e",
        "outputId": "e92a9932-eeb1-46bf-873c-9288c621bea8"
      },
      "source": [
        "model = keras.models.Sequential([\n",
        "  # we start with our input layer\n",
        "  keras.layers.Flatten(input_shape=(28, 28)),\n",
        "\n",
        "  # next, we'll add a hidden layer. Maybe 128 neurons? Why not\n",
        "  keras.layers.Dense(128, activation='sigmoid'),\n",
        "\n",
        "  # finally, we need an output layer, with \n",
        "  keras.layers.Dense(10, activation='softmax')\n",
        "])\n",
        "\n",
        "model.compile(optimizer='SGD',\n",
        "              loss='sparse_categorical_crossentropy',\n",
        "              metrics=['accuracy'])\n",
        "\n",
        "model.summary()"
      ],
      "execution_count": 15,
      "outputs": [
        {
          "output_type": "stream",
          "text": [
            "Model: \"sequential_3\"\n",
            "_________________________________________________________________\n",
            "Layer (type)                 Output Shape              Param #   \n",
            "=================================================================\n",
            "flatten_3 (Flatten)          (None, 784)               0         \n",
            "_________________________________________________________________\n",
            "dense_7 (Dense)              (None, 128)               100480    \n",
            "_________________________________________________________________\n",
            "dense_8 (Dense)              (None, 10)                1290      \n",
            "=================================================================\n",
            "Total params: 101,770\n",
            "Trainable params: 101,770\n",
            "Non-trainable params: 0\n",
            "_________________________________________________________________\n"
          ],
          "name": "stdout"
        }
      ]
    },
    {
      "cell_type": "markdown",
      "metadata": {
        "id": "5Ug-hL497PYD"
      },
      "source": [
        "Now, let's train the neural network!\n",
        "\n",
        "We'll start by going through the entire dataset 5 times."
      ]
    },
    {
      "cell_type": "code",
      "metadata": {
        "colab": {
          "base_uri": "https://localhost:8080/"
        },
        "id": "iqBbGbg96-eW",
        "outputId": "e4e6790b-d579-4b4e-cef6-3e758074e8a4"
      },
      "source": [
        "model.fit(x_train, y_train, epochs=10)\n",
        "\n",
        "model.evaluate(x_test, y_test, verbose=2)"
      ],
      "execution_count": 14,
      "outputs": [
        {
          "output_type": "stream",
          "text": [
            "Epoch 1/10\n",
            "1875/1875 [==============================] - 3s 1ms/step - loss: 1.0742 - accuracy: 0.6398\n",
            "Epoch 2/10\n",
            "1875/1875 [==============================] - 3s 1ms/step - loss: 0.3943 - accuracy: 0.8849\n",
            "Epoch 3/10\n",
            "1875/1875 [==============================] - 3s 2ms/step - loss: 0.3317 - accuracy: 0.9027\n",
            "Epoch 4/10\n",
            "1875/1875 [==============================] - 4s 2ms/step - loss: 0.2957 - accuracy: 0.9116\n",
            "Epoch 5/10\n",
            "1875/1875 [==============================] - 3s 2ms/step - loss: 0.2726 - accuracy: 0.9185\n",
            "Epoch 6/10\n",
            "1875/1875 [==============================] - 3s 1ms/step - loss: 0.2615 - accuracy: 0.9220\n",
            "Epoch 7/10\n",
            "1875/1875 [==============================] - 3s 2ms/step - loss: 0.2461 - accuracy: 0.9270\n",
            "Epoch 8/10\n",
            "1875/1875 [==============================] - 3s 2ms/step - loss: 0.2439 - accuracy: 0.9279\n",
            "Epoch 9/10\n",
            "1875/1875 [==============================] - 3s 2ms/step - loss: 0.2375 - accuracy: 0.9281\n",
            "Epoch 10/10\n",
            "1875/1875 [==============================] - 3s 1ms/step - loss: 0.2386 - accuracy: 0.9277\n",
            "313/313 - 0s - loss: 0.1851 - accuracy: 0.9450\n"
          ],
          "name": "stdout"
        },
        {
          "output_type": "execute_result",
          "data": {
            "text/plain": [
              "[0.1850692331790924, 0.9449999928474426]"
            ]
          },
          "metadata": {
            "tags": []
          },
          "execution_count": 14
        }
      ]
    },
    {
      "cell_type": "markdown",
      "metadata": {
        "id": "D6fT02rc7p1a"
      },
      "source": [
        "Not bad! 90% accuracy in less than 20 seconds!\n",
        "How can we do better?\n",
        "\n",
        "The obvious step is to just keep training for longer.\n",
        "\n",
        "Try going for 20 epochs and see if it does any better.\n",
        "\n",
        "What if we change the activation function?\n",
        "\n",
        "Sigmoid:\n",
        "\n",
        "Tanh: \n",
        "\n",
        "ReLU:\n",
        "\n",
        "What you might have started to notice though is that our training accuracy is  better than our testing accuracy. \n",
        "\n",
        "We've looked at the training set so many times that we're starting to learn ONLY those images.\n",
        "\n",
        "This is known as ***overfitting***, and we generally want to avoid it."
      ]
    },
    {
      "cell_type": "markdown",
      "metadata": {
        "id": "QKKJ9w6H-ln8"
      },
      "source": [
        "Techniques we can use to avoid overfitting:\n",
        "\n",
        "\n",
        "*   Reduce the number of parameters in our network\n",
        "*   Change the structure of our network\n",
        "*   Train for fewer epochs\n",
        "*   Don't use all the neurons at once\n",
        "\n",
        "Let's give these a try!\n",
        "\n"
      ]
    },
    {
      "cell_type": "code",
      "metadata": {
        "colab": {
          "base_uri": "https://localhost:8080/",
          "height": 283
        },
        "id": "IAczpY-hgpco",
        "outputId": "1018cf7c-9a61-4a0e-82b4-215daad7421d"
      },
      "source": [
        "plt.bar(np.arange(0,10,1), model.predict(x_train[0][np.newaxis,:])[0])\n",
        "plt.title (\"Proabibility for each integer\", fontsize = 16)\n",
        "plt.show()"
      ],
      "execution_count": 6,
      "outputs": [
        {
          "output_type": "display_data",
          "data": {
            "image/png": "[encoded data removed]",
            "text/plain": [
              "<Figure size 432x288 with 1 Axes>"
            ]
          },
          "metadata": {
            "tags": [],
            "needs_background": "light"
          }
        }
      ]
    },
    {
      "cell_type": "markdown",
      "metadata": {
        "id": "qqzfXq-jgyFJ"
      },
      "source": [
        "What if we have random noise?"
      ]
    },
    {
      "cell_type": "code",
      "metadata": {
        "colab": {
          "base_uri": "https://localhost:8080/",
          "height": 282
        },
        "id": "kG23H8eggwg7",
        "outputId": "a8b71eac-a9c4-4040-907b-e2e78f5e4645"
      },
      "source": [
        "my_noise = np.random.rand(784)\n",
        "plt.imshow(np.reshape(my_noise, (28,28)), cmap=\"gray\")\n"
      ],
      "execution_count": 7,
      "outputs": [
        {
          "output_type": "execute_result",
          "data": {
            "text/plain": [
              "<matplotlib.image.AxesImage at 0x7f771f47a1d0>"
            ]
          },
          "metadata": {
            "tags": []
          },
          "execution_count": 7
        },
        {
          "output_type": "display_data",
          "data": {
            "image/png": "[encoded data removed]",
            "text/plain": [
              "<Figure size 432x288 with 1 Axes>"
            ]
          },
          "metadata": {
            "tags": [],
            "needs_background": "light"
          }
        }
      ]
    },
    {
      "cell_type": "code",
      "metadata": {
        "colab": {
          "base_uri": "https://localhost:8080/",
          "height": 322
        },
        "id": "0EcYTKTlhD6m",
        "outputId": "2de2a2f4-d46b-47f5-e186-6f036e7ea7b9"
      },
      "source": [
        "plt.bar(np.arange(0,10,1), model.predict(my_noise[np.newaxis,:])[0])\n",
        "plt.title (\"Proabibility for each integer\", fontsize = 18)\n",
        "plt.show()"
      ],
      "execution_count": 8,
      "outputs": [
        {
          "output_type": "stream",
          "text": [
            "WARNING:tensorflow:Model was constructed with shape (None, 28, 28) for input KerasTensor(type_spec=TensorSpec(shape=(None, 28, 28), dtype=tf.float32, name='flatten_input'), name='flatten_input', description=\"created by layer 'flatten_input'\"), but it was called on an input with incompatible shape (None, 784).\n"
          ],
          "name": "stdout"
        },
        {
          "output_type": "display_data",
          "data": {
            "image/png": "[encoded data removed]",
            "text/plain": [
              "<Figure size 432x288 with 1 Axes>"
            ]
          },
          "metadata": {
            "tags": [],
            "needs_background": "light"
          }
        }
      ]
    },
    {
      "cell_type": "code",
      "metadata": {
        "id": "USGZQtJChR5J"
      },
      "source": [
        ""
      ],
      "execution_count": 8,
      "outputs": []
    }
  ]
}