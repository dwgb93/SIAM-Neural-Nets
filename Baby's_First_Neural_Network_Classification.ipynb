{
  "nbformat": 4,
  "nbformat_minor": 0,
  "metadata": {
    "colab": {
      "name": "Baby's First Neural Network: Classification.ipynb",
      "provenance": [],
      "collapsed_sections": [],
      "authorship_tag": "ABX9TyMfoYNC5vVaUy6HHte0HL4L",
      "include_colab_link": true
    },
    "kernelspec": {
      "name": "python3",
      "display_name": "Python 3"
    },
    "language_info": {
      "name": "python"
    }
  },
  "cells": [
    {
      "cell_type": "markdown",
      "metadata": {
        "id": "view-in-github",
        "colab_type": "text"
      },
      "source": [
        "<a href=\"https://colab.research.google.com/github/dwgb93/SIAM-Neural-Nets/blob/main/Baby's_First_Neural_Network_Classification.ipynb\" target=\"_parent\"><img src=\"https://colab.research.google.com/assets/colab-badge.svg\" alt=\"Open In Colab\"/></a>"
      ]
    },
    {
      "cell_type": "markdown",
      "metadata": {
        "id": "XtcYiUND0k0a"
      },
      "source": [
        "#My First Neural Network: Convergence\n",
        "\n",
        "In this notebook, we'll be creating a simple neural network and using it to classify handwritten digits. This is from the popular MNIST data set consisting of 60,000 digits pre-split into a training and testing set.\n",
        "\n",
        "First: some bookkeeping. We'll import a bunch of packages that let this all work."
      ]
    },
    {
      "cell_type": "code",
      "metadata": {
        "id": "whUShDuM06gn"
      },
      "source": [
        "import numpy as np\n",
        "from tensorflow import keras\n",
        "from tensorflow.keras import layers"
      ],
      "execution_count": 1,
      "outputs": []
    },
    {
      "cell_type": "markdown",
      "metadata": {
        "id": "kql2bjeEyJLg"
      },
      "source": [
        "Next we'll download the data we are going to use"
      ]
    },
    {
      "cell_type": "code",
      "metadata": {
        "id": "XaWv1QDwyMUp"
      },
      "source": [
        "# the data is already split between train and test sets\n",
        "(x_train, y_train), (x_test, y_test) = keras.datasets.mnist.load_data()\n",
        "\n",
        "# Each pixel is a value from 0 to 255, so we normalize it to 0 to 1. \n",
        "# This is optional, and generally speeds up training. You could also do -1 to 1. Try it and see what works best!\n",
        "x_train, x_test = x_train / 255.0, x_test / 255.0"
      ],
      "execution_count": 2,
      "outputs": []
    },
    {
      "cell_type": "markdown",
      "metadata": {
        "id": "qqEsEVVxzGTc"
      },
      "source": [
        "Let's look at a few of the images so we know what we're dealing with."
      ]
    },
    {
      "cell_type": "code",
      "metadata": {
        "colab": {
          "base_uri": "https://localhost:8080/",
          "height": 347
        },
        "id": "6K9nRsY4zK0W",
        "outputId": "ae429172-7f7a-4f60-b7a6-2a104c694499"
      },
      "source": [
        "import matplotlib.pyplot as plt\n",
        "fig = plt.figure(figsize = (16,5))\n",
        "fig.add_subplot(1,3,1)\n",
        "plt.imshow(x_train[0], cmap=\"gray\")\n",
        "plt.title(\"Label is \"+ str(y_train[0]), fontsize = 18)\n",
        "fig.add_subplot(1,3,2)\n",
        "plt.imshow(x_train[1], cmap=\"gray\")\n",
        "plt.title(\"Label is \"+ str(y_train[2]), fontsize = 18)\n",
        "fig.add_subplot(1,3,3)\n",
        "plt.imshow(x_train[2], cmap=\"gray\")\n",
        "plt.title(\"Label is \"+ str(y_train[4]), fontsize = 18)"
      ],
      "execution_count": 3,
      "outputs": [
        {
          "output_type": "execute_result",
          "data": {
            "text/plain": [
              "Text(0.5, 1.0, 'Label is 9')"
            ]
          },
          "metadata": {
            "tags": []
          },
          "execution_count": 3
        },
        {
          "output_type": "display_data",
          "data": {
            "image/png": "[encoded data removed]",
            "text/plain": [
              "<Figure size 1152x360 with 3 Axes>"
            ]
          },
          "metadata": {
            "tags": [],
            "needs_background": "light"
          }
        }
      ]
    },
    {
      "cell_type": "markdown",
      "metadata": {
        "id": "SdQVNW3a4g5m"
      },
      "source": [
        "Finally, let's build our first neural network!\n",
        "\n",
        "We'll start with the input layer. Since we have a 28x28 image, we need 784 neurons.\n"
      ]
    },
    {
      "cell_type": "code",
      "metadata": {
        "colab": {
          "base_uri": "https://localhost:8080/"
        },
        "id": "egfEAbZp4o1e",
        "outputId": "302f7a16-71ca-492b-9c04-e60f7547404e"
      },
      "source": [
        "model = keras.models.Sequential([\n",
        "  # we start with our input layer\n",
        "  keras.layers.Flatten(input_shape=(28, 28)),\n",
        "\n",
        "  # next, we'll add a hidden layer. Maybe 128 neurons? Why not\n",
        "  keras.layers.Dense(128, activation='sigmoid'),\n",
        "\n",
        "  # finally, we need an output layer, with \n",
        "  keras.layers.Dense(10, activation='softmax')\n",
        "])\n",
        "\n",
        "model.compile(optimizer='SGD',\n",
        "              loss='sparse_categorical_crossentropy',\n",
        "              metrics=['accuracy'])\n",
        "\n",
        "model.summary()"
      ],
      "execution_count": 4,
      "outputs": [
        {
          "output_type": "stream",
          "text": [
            "Model: \"sequential\"\n",
            "_________________________________________________________________\n",
            "Layer (type)                 Output Shape              Param #   \n",
            "=================================================================\n",
            "flatten (Flatten)            (None, 784)               0         \n",
            "_________________________________________________________________\n",
            "dense (Dense)                (None, 128)               100480    \n",
            "_________________________________________________________________\n",
            "dense_1 (Dense)              (None, 10)                1290      \n",
            "=================================================================\n",
            "Total params: 101,770\n",
            "Trainable params: 101,770\n",
            "Non-trainable params: 0\n",
            "_________________________________________________________________\n"
          ],
          "name": "stdout"
        }
      ]
    },
    {
      "cell_type": "markdown",
      "metadata": {
        "id": "5Ug-hL497PYD"
      },
      "source": [
        "Now, let's train the neural network!\n",
        "\n",
        "We'll start by going through the entire dataset 5 times."
      ]
    },
    {
      "cell_type": "code",
      "metadata": {
        "colab": {
          "base_uri": "https://localhost:8080/"
        },
        "id": "iqBbGbg96-eW",
        "outputId": "44f6e1a0-6807-47fb-886a-142c209184d8"
      },
      "source": [
        "model.fit(x_train, y_train, epochs=5)\n",
        "\n",
        "model.evaluate(x_test, y_test, verbose=2)"
      ],
      "execution_count": 5,
      "outputs": [
        {
          "output_type": "stream",
          "text": [
            "Epoch 1/5\n",
            "1875/1875 [==============================] - 3s 2ms/step - loss: 1.8278 - accuracy: 0.5377\n",
            "Epoch 2/5\n",
            "1875/1875 [==============================] - 3s 2ms/step - loss: 0.7808 - accuracy: 0.8351\n",
            "Epoch 3/5\n",
            "1875/1875 [==============================] - 3s 2ms/step - loss: 0.5541 - accuracy: 0.8677\n",
            "Epoch 4/5\n",
            "1875/1875 [==============================] - 3s 2ms/step - loss: 0.4672 - accuracy: 0.8804\n",
            "Epoch 5/5\n",
            "1875/1875 [==============================] - 3s 2ms/step - loss: 0.4165 - accuracy: 0.8894\n",
            "313/313 - 0s - loss: 0.3762 - accuracy: 0.8987\n"
          ],
          "name": "stdout"
        },
        {
          "output_type": "execute_result",
          "data": {
            "text/plain": [
              "[0.3761763572692871, 0.8986999988555908]"
            ]
          },
          "metadata": {
            "tags": []
          },
          "execution_count": 5
        }
      ]
    },
    {
      "cell_type": "markdown",
      "metadata": {
        "id": "D6fT02rc7p1a"
      },
      "source": [
        "Not bad! 90% accuracy in less than 20 seconds!\n",
        "How can we do better?\n",
        "\n",
        "The obvious step is to just keep training for longer.\n",
        "\n",
        "Try going for 20 epochs and see if it does any better.\n",
        "\n",
        "What if we change the activation function?\n",
        "\n",
        "Sigmoid:\n",
        "\n",
        "Tanh: \n",
        "\n",
        "ReLU:\n",
        "\n",
        "What you might have started to notice though is that our training accuracy is  better than our testing accuracy. \n",
        "\n",
        "We've looked at the training set so many times that we're starting to learn ONLY those images.\n",
        "\n",
        "This is known as ***overfitting***, and we generally want to avoid it."
      ]
    },
    {
      "cell_type": "markdown",
      "metadata": {
        "id": "QKKJ9w6H-ln8"
      },
      "source": [
        "Techniques we can use to avoid overfitting:\n",
        "\n",
        "\n",
        "*   Reduce the number of parameters in our network\n",
        "*   Change the structure of our network\n",
        "*   Train for fewer epochs\n",
        "*   Don't use all the neurons at once\n",
        "\n",
        "Let's give these a try!\n",
        "\n"
      ]
    },
    {
      "cell_type": "code",
      "metadata": {
        "colab": {
          "base_uri": "https://localhost:8080/",
          "height": 283
        },
        "id": "IAczpY-hgpco",
        "outputId": "d931fd96-6308-4489-a557-35d4200c68fa"
      },
      "source": [
        "plt.bar(np.arange(0,10,1), model.predict(x_train[0][np.newaxis,:])[0])\n",
        "plt.title (\"Proabibility for each integer\", fontsize = 16)\n",
        "plt.show()"
      ],
      "execution_count": 6,
      "outputs": [
        {
          "output_type": "display_data",
          "data": {
            "image/png": "[encoded data removed]",
            "text/plain": [
              "<Figure size 432x288 with 1 Axes>"
            ]
          },
          "metadata": {
            "tags": [],
            "needs_background": "light"
          }
        }
      ]
    },
    {
      "cell_type": "markdown",
      "metadata": {
        "id": "qqzfXq-jgyFJ"
      },
      "source": [
        "What if we have random noise?"
      ]
    },
    {
      "cell_type": "code",
      "metadata": {
        "colab": {
          "base_uri": "https://localhost:8080/",
          "height": 282
        },
        "id": "kG23H8eggwg7",
        "outputId": "053355c3-e3ff-44e8-f958-cb1f94dbc0f2"
      },
      "source": [
        "my_noise = np.random.rand(784)\n",
        "plt.imshow(np.reshape(my_noise, (28,28)), cmap=\"gray\")\n"
      ],
      "execution_count": 7,
      "outputs": [
        {
          "output_type": "execute_result",
          "data": {
            "text/plain": [
              "<matplotlib.image.AxesImage at 0x7f54bdc360d0>"
            ]
          },
          "metadata": {
            "tags": []
          },
          "execution_count": 7
        },
        {
          "output_type": "display_data",
          "data": {
            "image/png": "[encoded data removed]",
            "text/plain": [
              "<Figure size 432x288 with 1 Axes>"
            ]
          },
          "metadata": {
            "tags": [],
            "needs_background": "light"
          }
        }
      ]
    },
    {
      "cell_type": "code",
      "metadata": {
        "colab": {
          "base_uri": "https://localhost:8080/",
          "height": 322
        },
        "id": "0EcYTKTlhD6m",
        "outputId": "0e47c2df-2f7d-4beb-d103-3a653cff2ee1"
      },
      "source": [
        "plt.bar(np.arange(0,10,1), model.predict(my_noise[np.newaxis,:])[0])\n",
        "plt.title (\"Proabibility for each integer\", fontsize = 18)\n",
        "plt.show()"
      ],
      "execution_count": 8,
      "outputs": [
        {
          "output_type": "stream",
          "text": [
            "WARNING:tensorflow:Model was constructed with shape (None, 28, 28) for input KerasTensor(type_spec=TensorSpec(shape=(None, 28, 28), dtype=tf.float32, name='flatten_input'), name='flatten_input', description=\"created by layer 'flatten_input'\"), but it was called on an input with incompatible shape (None, 784).\n"
          ],
          "name": "stdout"
        },
        {
          "output_type": "display_data",
          "data": {
            "image/png": "[encoded data removed]",
            "text/plain": [
              "<Figure size 432x288 with 1 Axes>"
            ]
          },
          "metadata": {
            "tags": [],
            "needs_background": "light"
          }
        }
      ]
    },
    {
      "cell_type": "code",
      "metadata": {
        "id": "USGZQtJChR5J"
      },
      "source": [
        ""
      ],
      "execution_count": 8,
      "outputs": []
    }
  ]
}